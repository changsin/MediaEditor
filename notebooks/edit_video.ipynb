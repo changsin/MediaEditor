{
  "nbformat": 4,
  "nbformat_minor": 0,
  "metadata": {
    "colab": {
      "name": "dedupe_images.ipynb",
      "provenance": [],
      "collapsed_sections": [],
      "authorship_tag": "ABX9TyNOT20eAG9rdKJ0NiYDHUYN",
      "include_colab_link": true
    },
    "kernelspec": {
      "name": "python3",
      "display_name": "Python 3"
    },
    "language_info": {
      "name": "python"
    }
  },
  "cells": [
    {
      "cell_type": "markdown",
      "metadata": {
        "id": "view-in-github",
        "colab_type": "text"
      },
      "source": [
        "<a href=\"https://colab.research.google.com/github/changsin/MediaEditor/blob/main/notebooks/edit_video.ipynb\" target=\"_parent\"><img src=\"https://colab.research.google.com/assets/colab-badge.svg\" alt=\"Open In Colab\"/></a>"
      ]
    },
    {
      "cell_type": "markdown",
      "metadata": {
        "id": "delgJvny089O"
      },
      "source": [
        "# The Sound of Silence\n",
        "\n"
      ]
    },
    {
      "cell_type": "code",
      "metadata": {
        "id": "hk-p6VhaLQl4"
      },
      "source": [
        "!git clone https://github.com/changsin/MediaEditor.git"
      ],
      "execution_count": null,
      "outputs": []
    },
    {
      "cell_type": "code",
      "metadata": {
        "id": "MI3z5wmD069e",
        "outputId": "83225701-8612-4eee-fbfd-df5d73071436",
        "colab": {
          "base_uri": "https://localhost:8080/"
        }
      },
      "source": [
        "!pip install -q youtube-dl"
      ],
      "execution_count": 1,
      "outputs": [
        {
          "output_type": "stream",
          "name": "stdout",
          "text": [
            "\u001b[?25l\r\u001b[K     |▏                               | 10 kB 20.3 MB/s eta 0:00:01\r\u001b[K     |▍                               | 20 kB 25.1 MB/s eta 0:00:01\r\u001b[K     |▌                               | 30 kB 29.8 MB/s eta 0:00:01\r\u001b[K     |▊                               | 40 kB 25.4 MB/s eta 0:00:01\r\u001b[K     |▉                               | 51 kB 12.5 MB/s eta 0:00:01\r\u001b[K     |█                               | 61 kB 12.3 MB/s eta 0:00:01\r\u001b[K     |█▏                              | 71 kB 9.8 MB/s eta 0:00:01\r\u001b[K     |█▍                              | 81 kB 10.8 MB/s eta 0:00:01\r\u001b[K     |█▌                              | 92 kB 9.8 MB/s eta 0:00:01\r\u001b[K     |█▊                              | 102 kB 10.5 MB/s eta 0:00:01\r\u001b[K     |██                              | 112 kB 10.5 MB/s eta 0:00:01\r\u001b[K     |██                              | 122 kB 10.5 MB/s eta 0:00:01\r\u001b[K     |██▎                             | 133 kB 10.5 MB/s eta 0:00:01\r\u001b[K     |██▍                             | 143 kB 10.5 MB/s eta 0:00:01\r\u001b[K     |██▋                             | 153 kB 10.5 MB/s eta 0:00:01\r\u001b[K     |██▊                             | 163 kB 10.5 MB/s eta 0:00:01\r\u001b[K     |███                             | 174 kB 10.5 MB/s eta 0:00:01\r\u001b[K     |███                             | 184 kB 10.5 MB/s eta 0:00:01\r\u001b[K     |███▎                            | 194 kB 10.5 MB/s eta 0:00:01\r\u001b[K     |███▍                            | 204 kB 10.5 MB/s eta 0:00:01\r\u001b[K     |███▋                            | 215 kB 10.5 MB/s eta 0:00:01\r\u001b[K     |███▉                            | 225 kB 10.5 MB/s eta 0:00:01\r\u001b[K     |████                            | 235 kB 10.5 MB/s eta 0:00:01\r\u001b[K     |████▏                           | 245 kB 10.5 MB/s eta 0:00:01\r\u001b[K     |████▎                           | 256 kB 10.5 MB/s eta 0:00:01\r\u001b[K     |████▌                           | 266 kB 10.5 MB/s eta 0:00:01\r\u001b[K     |████▋                           | 276 kB 10.5 MB/s eta 0:00:01\r\u001b[K     |████▉                           | 286 kB 10.5 MB/s eta 0:00:01\r\u001b[K     |█████                           | 296 kB 10.5 MB/s eta 0:00:01\r\u001b[K     |█████▏                          | 307 kB 10.5 MB/s eta 0:00:01\r\u001b[K     |█████▎                          | 317 kB 10.5 MB/s eta 0:00:01\r\u001b[K     |█████▌                          | 327 kB 10.5 MB/s eta 0:00:01\r\u001b[K     |█████▊                          | 337 kB 10.5 MB/s eta 0:00:01\r\u001b[K     |█████▉                          | 348 kB 10.5 MB/s eta 0:00:01\r\u001b[K     |██████                          | 358 kB 10.5 MB/s eta 0:00:01\r\u001b[K     |██████▏                         | 368 kB 10.5 MB/s eta 0:00:01\r\u001b[K     |██████▍                         | 378 kB 10.5 MB/s eta 0:00:01\r\u001b[K     |██████▌                         | 389 kB 10.5 MB/s eta 0:00:01\r\u001b[K     |██████▊                         | 399 kB 10.5 MB/s eta 0:00:01\r\u001b[K     |██████▉                         | 409 kB 10.5 MB/s eta 0:00:01\r\u001b[K     |███████                         | 419 kB 10.5 MB/s eta 0:00:01\r\u001b[K     |███████▎                        | 430 kB 10.5 MB/s eta 0:00:01\r\u001b[K     |███████▍                        | 440 kB 10.5 MB/s eta 0:00:01\r\u001b[K     |███████▋                        | 450 kB 10.5 MB/s eta 0:00:01\r\u001b[K     |███████▊                        | 460 kB 10.5 MB/s eta 0:00:01\r\u001b[K     |████████                        | 471 kB 10.5 MB/s eta 0:00:01\r\u001b[K     |████████                        | 481 kB 10.5 MB/s eta 0:00:01\r\u001b[K     |████████▎                       | 491 kB 10.5 MB/s eta 0:00:01\r\u001b[K     |████████▍                       | 501 kB 10.5 MB/s eta 0:00:01\r\u001b[K     |████████▋                       | 512 kB 10.5 MB/s eta 0:00:01\r\u001b[K     |████████▊                       | 522 kB 10.5 MB/s eta 0:00:01\r\u001b[K     |█████████                       | 532 kB 10.5 MB/s eta 0:00:01\r\u001b[K     |█████████▏                      | 542 kB 10.5 MB/s eta 0:00:01\r\u001b[K     |█████████▎                      | 552 kB 10.5 MB/s eta 0:00:01\r\u001b[K     |█████████▌                      | 563 kB 10.5 MB/s eta 0:00:01\r\u001b[K     |█████████▋                      | 573 kB 10.5 MB/s eta 0:00:01\r\u001b[K     |█████████▉                      | 583 kB 10.5 MB/s eta 0:00:01\r\u001b[K     |██████████                      | 593 kB 10.5 MB/s eta 0:00:01\r\u001b[K     |██████████▏                     | 604 kB 10.5 MB/s eta 0:00:01\r\u001b[K     |██████████▎                     | 614 kB 10.5 MB/s eta 0:00:01\r\u001b[K     |██████████▌                     | 624 kB 10.5 MB/s eta 0:00:01\r\u001b[K     |██████████▋                     | 634 kB 10.5 MB/s eta 0:00:01\r\u001b[K     |██████████▉                     | 645 kB 10.5 MB/s eta 0:00:01\r\u001b[K     |███████████                     | 655 kB 10.5 MB/s eta 0:00:01\r\u001b[K     |███████████▏                    | 665 kB 10.5 MB/s eta 0:00:01\r\u001b[K     |███████████▍                    | 675 kB 10.5 MB/s eta 0:00:01\r\u001b[K     |███████████▌                    | 686 kB 10.5 MB/s eta 0:00:01\r\u001b[K     |███████████▊                    | 696 kB 10.5 MB/s eta 0:00:01\r\u001b[K     |███████████▉                    | 706 kB 10.5 MB/s eta 0:00:01\r\u001b[K     |████████████                    | 716 kB 10.5 MB/s eta 0:00:01\r\u001b[K     |████████████▏                   | 727 kB 10.5 MB/s eta 0:00:01\r\u001b[K     |████████████▍                   | 737 kB 10.5 MB/s eta 0:00:01\r\u001b[K     |████████████▋                   | 747 kB 10.5 MB/s eta 0:00:01\r\u001b[K     |████████████▊                   | 757 kB 10.5 MB/s eta 0:00:01\r\u001b[K     |█████████████                   | 768 kB 10.5 MB/s eta 0:00:01\r\u001b[K     |█████████████                   | 778 kB 10.5 MB/s eta 0:00:01\r\u001b[K     |█████████████▎                  | 788 kB 10.5 MB/s eta 0:00:01\r\u001b[K     |█████████████▍                  | 798 kB 10.5 MB/s eta 0:00:01\r\u001b[K     |█████████████▋                  | 808 kB 10.5 MB/s eta 0:00:01\r\u001b[K     |█████████████▊                  | 819 kB 10.5 MB/s eta 0:00:01\r\u001b[K     |██████████████                  | 829 kB 10.5 MB/s eta 0:00:01\r\u001b[K     |██████████████                  | 839 kB 10.5 MB/s eta 0:00:01\r\u001b[K     |██████████████▎                 | 849 kB 10.5 MB/s eta 0:00:01\r\u001b[K     |██████████████▌                 | 860 kB 10.5 MB/s eta 0:00:01\r\u001b[K     |██████████████▋                 | 870 kB 10.5 MB/s eta 0:00:01\r\u001b[K     |██████████████▉                 | 880 kB 10.5 MB/s eta 0:00:01\r\u001b[K     |███████████████                 | 890 kB 10.5 MB/s eta 0:00:01\r\u001b[K     |███████████████▏                | 901 kB 10.5 MB/s eta 0:00:01\r\u001b[K     |███████████████▎                | 911 kB 10.5 MB/s eta 0:00:01\r\u001b[K     |███████████████▌                | 921 kB 10.5 MB/s eta 0:00:01\r\u001b[K     |███████████████▋                | 931 kB 10.5 MB/s eta 0:00:01\r\u001b[K     |███████████████▉                | 942 kB 10.5 MB/s eta 0:00:01\r\u001b[K     |████████████████                | 952 kB 10.5 MB/s eta 0:00:01\r\u001b[K     |████████████████▏               | 962 kB 10.5 MB/s eta 0:00:01\r\u001b[K     |████████████████▍               | 972 kB 10.5 MB/s eta 0:00:01\r\u001b[K     |████████████████▌               | 983 kB 10.5 MB/s eta 0:00:01\r\u001b[K     |████████████████▊               | 993 kB 10.5 MB/s eta 0:00:01\r\u001b[K     |████████████████▉               | 1.0 MB 10.5 MB/s eta 0:00:01\r\u001b[K     |█████████████████               | 1.0 MB 10.5 MB/s eta 0:00:01\r\u001b[K     |█████████████████▏              | 1.0 MB 10.5 MB/s eta 0:00:01\r\u001b[K     |█████████████████▍              | 1.0 MB 10.5 MB/s eta 0:00:01\r\u001b[K     |█████████████████▌              | 1.0 MB 10.5 MB/s eta 0:00:01\r\u001b[K     |█████████████████▊              | 1.1 MB 10.5 MB/s eta 0:00:01\r\u001b[K     |██████████████████              | 1.1 MB 10.5 MB/s eta 0:00:01\r\u001b[K     |██████████████████              | 1.1 MB 10.5 MB/s eta 0:00:01\r\u001b[K     |██████████████████▎             | 1.1 MB 10.5 MB/s eta 0:00:01\r\u001b[K     |██████████████████▍             | 1.1 MB 10.5 MB/s eta 0:00:01\r\u001b[K     |██████████████████▋             | 1.1 MB 10.5 MB/s eta 0:00:01\r\u001b[K     |██████████████████▊             | 1.1 MB 10.5 MB/s eta 0:00:01\r\u001b[K     |███████████████████             | 1.1 MB 10.5 MB/s eta 0:00:01\r\u001b[K     |███████████████████             | 1.1 MB 10.5 MB/s eta 0:00:01\r\u001b[K     |███████████████████▎            | 1.1 MB 10.5 MB/s eta 0:00:01\r\u001b[K     |███████████████████▍            | 1.2 MB 10.5 MB/s eta 0:00:01\r\u001b[K     |███████████████████▋            | 1.2 MB 10.5 MB/s eta 0:00:01\r\u001b[K     |███████████████████▉            | 1.2 MB 10.5 MB/s eta 0:00:01\r\u001b[K     |████████████████████            | 1.2 MB 10.5 MB/s eta 0:00:01\r\u001b[K     |████████████████████▏           | 1.2 MB 10.5 MB/s eta 0:00:01\r\u001b[K     |████████████████████▎           | 1.2 MB 10.5 MB/s eta 0:00:01\r\u001b[K     |████████████████████▌           | 1.2 MB 10.5 MB/s eta 0:00:01\r\u001b[K     |████████████████████▋           | 1.2 MB 10.5 MB/s eta 0:00:01\r\u001b[K     |████████████████████▉           | 1.2 MB 10.5 MB/s eta 0:00:01\r\u001b[K     |█████████████████████           | 1.2 MB 10.5 MB/s eta 0:00:01\r\u001b[K     |█████████████████████▏          | 1.3 MB 10.5 MB/s eta 0:00:01\r\u001b[K     |█████████████████████▎          | 1.3 MB 10.5 MB/s eta 0:00:01\r\u001b[K     |█████████████████████▌          | 1.3 MB 10.5 MB/s eta 0:00:01\r\u001b[K     |█████████████████████▊          | 1.3 MB 10.5 MB/s eta 0:00:01\r\u001b[K     |█████████████████████▉          | 1.3 MB 10.5 MB/s eta 0:00:01\r\u001b[K     |██████████████████████          | 1.3 MB 10.5 MB/s eta 0:00:01\r\u001b[K     |██████████████████████▏         | 1.3 MB 10.5 MB/s eta 0:00:01\r\u001b[K     |██████████████████████▍         | 1.3 MB 10.5 MB/s eta 0:00:01\r\u001b[K     |██████████████████████▌         | 1.3 MB 10.5 MB/s eta 0:00:01\r\u001b[K     |██████████████████████▊         | 1.4 MB 10.5 MB/s eta 0:00:01\r\u001b[K     |██████████████████████▉         | 1.4 MB 10.5 MB/s eta 0:00:01\r\u001b[K     |███████████████████████         | 1.4 MB 10.5 MB/s eta 0:00:01\r\u001b[K     |███████████████████████▎        | 1.4 MB 10.5 MB/s eta 0:00:01\r\u001b[K     |███████████████████████▍        | 1.4 MB 10.5 MB/s eta 0:00:01\r\u001b[K     |███████████████████████▋        | 1.4 MB 10.5 MB/s eta 0:00:01\r\u001b[K     |███████████████████████▊        | 1.4 MB 10.5 MB/s eta 0:00:01\r\u001b[K     |████████████████████████        | 1.4 MB 10.5 MB/s eta 0:00:01\r\u001b[K     |████████████████████████        | 1.4 MB 10.5 MB/s eta 0:00:01\r\u001b[K     |████████████████████████▎       | 1.4 MB 10.5 MB/s eta 0:00:01\r\u001b[K     |████████████████████████▍       | 1.5 MB 10.5 MB/s eta 0:00:01\r\u001b[K     |████████████████████████▋       | 1.5 MB 10.5 MB/s eta 0:00:01\r\u001b[K     |████████████████████████▊       | 1.5 MB 10.5 MB/s eta 0:00:01\r\u001b[K     |█████████████████████████       | 1.5 MB 10.5 MB/s eta 0:00:01\r\u001b[K     |█████████████████████████▏      | 1.5 MB 10.5 MB/s eta 0:00:01\r\u001b[K     |█████████████████████████▎      | 1.5 MB 10.5 MB/s eta 0:00:01\r\u001b[K     |█████████████████████████▌      | 1.5 MB 10.5 MB/s eta 0:00:01\r\u001b[K     |█████████████████████████▋      | 1.5 MB 10.5 MB/s eta 0:00:01\r\u001b[K     |█████████████████████████▉      | 1.5 MB 10.5 MB/s eta 0:00:01\r\u001b[K     |██████████████████████████      | 1.5 MB 10.5 MB/s eta 0:00:01\r\u001b[K     |██████████████████████████▏     | 1.6 MB 10.5 MB/s eta 0:00:01\r\u001b[K     |██████████████████████████▎     | 1.6 MB 10.5 MB/s eta 0:00:01\r\u001b[K     |██████████████████████████▌     | 1.6 MB 10.5 MB/s eta 0:00:01\r\u001b[K     |██████████████████████████▋     | 1.6 MB 10.5 MB/s eta 0:00:01\r\u001b[K     |██████████████████████████▉     | 1.6 MB 10.5 MB/s eta 0:00:01\r\u001b[K     |███████████████████████████     | 1.6 MB 10.5 MB/s eta 0:00:01\r\u001b[K     |███████████████████████████▏    | 1.6 MB 10.5 MB/s eta 0:00:01\r\u001b[K     |███████████████████████████▍    | 1.6 MB 10.5 MB/s eta 0:00:01\r\u001b[K     |███████████████████████████▌    | 1.6 MB 10.5 MB/s eta 0:00:01\r\u001b[K     |███████████████████████████▊    | 1.6 MB 10.5 MB/s eta 0:00:01\r\u001b[K     |███████████████████████████▉    | 1.7 MB 10.5 MB/s eta 0:00:01\r\u001b[K     |████████████████████████████    | 1.7 MB 10.5 MB/s eta 0:00:01\r\u001b[K     |████████████████████████████▏   | 1.7 MB 10.5 MB/s eta 0:00:01\r\u001b[K     |████████████████████████████▍   | 1.7 MB 10.5 MB/s eta 0:00:01\r\u001b[K     |████████████████████████████▋   | 1.7 MB 10.5 MB/s eta 0:00:01\r\u001b[K     |████████████████████████████▊   | 1.7 MB 10.5 MB/s eta 0:00:01\r\u001b[K     |█████████████████████████████   | 1.7 MB 10.5 MB/s eta 0:00:01\r\u001b[K     |█████████████████████████████   | 1.7 MB 10.5 MB/s eta 0:00:01\r\u001b[K     |█████████████████████████████▎  | 1.7 MB 10.5 MB/s eta 0:00:01\r\u001b[K     |█████████████████████████████▍  | 1.8 MB 10.5 MB/s eta 0:00:01\r\u001b[K     |█████████████████████████████▋  | 1.8 MB 10.5 MB/s eta 0:00:01\r\u001b[K     |█████████████████████████████▊  | 1.8 MB 10.5 MB/s eta 0:00:01\r\u001b[K     |██████████████████████████████  | 1.8 MB 10.5 MB/s eta 0:00:01\r\u001b[K     |██████████████████████████████  | 1.8 MB 10.5 MB/s eta 0:00:01\r\u001b[K     |██████████████████████████████▎ | 1.8 MB 10.5 MB/s eta 0:00:01\r\u001b[K     |██████████████████████████████▌ | 1.8 MB 10.5 MB/s eta 0:00:01\r\u001b[K     |██████████████████████████████▋ | 1.8 MB 10.5 MB/s eta 0:00:01\r\u001b[K     |██████████████████████████████▉ | 1.8 MB 10.5 MB/s eta 0:00:01\r\u001b[K     |███████████████████████████████ | 1.8 MB 10.5 MB/s eta 0:00:01\r\u001b[K     |███████████████████████████████▏| 1.9 MB 10.5 MB/s eta 0:00:01\r\u001b[K     |███████████████████████████████▎| 1.9 MB 10.5 MB/s eta 0:00:01\r\u001b[K     |███████████████████████████████▌| 1.9 MB 10.5 MB/s eta 0:00:01\r\u001b[K     |███████████████████████████████▋| 1.9 MB 10.5 MB/s eta 0:00:01\r\u001b[K     |███████████████████████████████▉| 1.9 MB 10.5 MB/s eta 0:00:01\r\u001b[K     |████████████████████████████████| 1.9 MB 10.5 MB/s eta 0:00:01\r\u001b[K     |████████████████████████████████| 1.9 MB 10.5 MB/s \n",
            "\u001b[?25h"
          ]
        }
      ]
    },
    {
      "cell_type": "code",
      "metadata": {
        "id": "4gPvA1xA0_Iq",
        "colab": {
          "base_uri": "https://localhost:8080/",
          "height": 321
        },
        "outputId": "01ef33b1-71e8-4c5c-c5dd-824fb96b34d9"
      },
      "source": [
        "from IPython.display import YouTubeVideo\n",
        "\n",
        "save_filename = \"Vietnamese_Annie_NK_Trip\"\n",
        "youtube_id = 'zNBoeXpbm9s'\n",
        "YouTubeVideo(youtube_id)"
      ],
      "execution_count": 2,
      "outputs": [
        {
          "output_type": "execute_result",
          "data": {
            "text/html": [
              "\n",
              "        <iframe\n",
              "            width=\"400\"\n",
              "            height=\"300\"\n",
              "            src=\"https://www.youtube.com/embed/zNBoeXpbm9s\"\n",
              "            frameborder=\"0\"\n",
              "            allowfullscreen\n",
              "        ></iframe>\n",
              "        "
            ],
            "text/plain": [
              "<IPython.lib.display.YouTubeVideo at 0x7fcc8ae43550>"
            ],
            "image/jpeg": "[encoded data removed]"
          },
          "metadata": {},
          "execution_count": 2
        }
      ]
    },
    {
      "cell_type": "code",
      "metadata": {
        "colab": {
          "base_uri": "https://localhost:8080/"
        },
        "id": "8sYeWysp1VMm",
        "outputId": "f6a3bbe1-931c-4274-edd6-76e507e3d316"
      },
      "source": [
        "def download_youtube(youtube_id, save_filename):\n",
        "  !youtube-dl -f 'bestvideo[ext=mp4]' --output $save_filename\".%(ext)s\" https://www.youtube.com/watch?v=$youtube_id\n",
        "\n",
        "download_youtube(youtube_id, save_filename)"
      ],
      "execution_count": 4,
      "outputs": [
        {
          "output_type": "stream",
          "name": "stdout",
          "text": [
            "[youtube] zNBoeXpbm9s: Downloading webpage\n",
            "[youtube] zNBoeXpbm9s: Downloading MPD manifest\n",
            "[download] Destination: Vietnamese_Annie_NK_Trip.mp4\n",
            "\u001b[K[download] 100% of 91.25MiB in 26:51\n"
          ]
        }
      ]
    },
    {
      "cell_type": "markdown",
      "metadata": {
        "id": "SLy095WGNyAf"
      },
      "source": [
        "## Split video clips\n"
      ]
    },
    {
      "cell_type": "code",
      "metadata": {
        "id": "JZwrDUZ5N7jY",
        "outputId": "995e972e-fc46-4845-fd47-d3087ee01f40",
        "colab": {
          "base_uri": "https://localhost:8080/",
          "height": 439
        }
      },
      "source": [
        "import glob\n",
        "import math\n",
        "import os\n",
        "\n",
        "from moviepy.editor import VideoFileClip, AudioFileClip, concatenate_videoclips\n",
        "# from pydub import AudioSegment\n",
        "\n",
        "DEFAULT_THRESHOLD = 65      # 65 for pydub, 0.01 for moviepy\n",
        "DEFAULT_WINDOW_SIZE = 0.1\n",
        "\n",
        "\n",
        "def split_video(file_in, path_out,\n",
        "                threshold=DEFAULT_THRESHOLD,\n",
        "                window_size=DEFAULT_WINDOW_SIZE):\n",
        "  video_clip = VideoFileClip(file_in)\n",
        "  video_end = video_clip.end\n",
        "\n",
        "  n_windows = math.floor(video_end / window_size)\n",
        "  print(f\"Video: {file_in} Duration: {video_end} n_windows: {n_windows}\")\n",
        "\n",
        "  clips_to_save = []\n",
        "\n",
        "  is_started = False\n",
        "  start_time = 0\n",
        "  end_time = 0\n",
        "\n",
        "  for i in range(n_windows):\n",
        "    sub_clip = video_clip.audio.subclip(i * window_size, (i + 1) * window_size)\n",
        "    if sub_clip.max_volume() >= threshold:\n",
        "      if is_prev_silence: # start speaking\n",
        "          start_time = i * window_size\n",
        "\n",
        "      is_prev_silence = False\n",
        "    else:\n",
        "      if is_started:  # speaking ended\n",
        "          if i < n_windows - 1:\n",
        "              # add one more window to capture the fade out effect\n",
        "              end_time = (i + 1) * window_size\n",
        "              i += 1\n",
        "          else:\n",
        "              end_time = video_end\n",
        "          clips_to_save.append(video_clip.subclip(start_time, end_time))\n",
        "\n",
        "      is_prev_silence = True\n",
        "\n",
        "  edited_video = concatenate_videoclips(keep_clips)\n",
        "\n",
        "  edited_video.write_videofile(\n",
        "      'out.mp4',\n",
        "      audio_codec='aac',\n",
        "      threads=16\n",
        "  )\n",
        "\n",
        "  # If the audio track never fades out (kept talking till the end)\n",
        "  #   take the rest of the audio track.\n",
        "  # This can happen in two occasions:\n",
        "  #   1. The entire audio clip is filled with noise - no kept clips\n",
        "  #   2. There was a moment of silence in the middle but noise started and never ended in silence\n",
        "  # if (len(clips_to_save) == 0 and start_time > 0) or end_time < start_time:\n",
        "  #     clips_to_save.append(audio_clip.subclip(start_time, audio_end))\n",
        "\n",
        "  # if len(clips_to_save) > 0:\n",
        "  #     edited_audio = concatenate_audioclips(clips_to_save)\n",
        "  #     print('Writing {} with duration {:.2f}'.format(file_out, edited_audio.end))\n",
        "  #     edited_audio.write_audiofile(file_out)\n",
        "  #     edited_audio.close()\n",
        "  # else:\n",
        "  #     print(\"###Empty clips \", file_in)\n",
        "\n",
        "  video_clip.close()\n",
        "  edited_video.close()\n",
        "\n",
        "split_video('/content/Vietnamese_Annie_NK_Trip.mp4', './')"
      ],
      "execution_count": 5,
      "outputs": [
        {
          "output_type": "stream",
          "name": "stdout",
          "text": [
            "Imageio: 'ffmpeg-linux64-v3.3.1' was not found on your computer; downloading it now.\n",
            "Try 1. Download from https://github.com/imageio/imageio-binaries/raw/master/ffmpeg/ffmpeg-linux64-v3.3.1 (43.8 MB)\n",
            "Downloading: 8192/45929032 bytes (0.0%)\b\b\b\b\b\b\b\b\b\b\b\b\b\b\b\b\b\b\b\b\b\b\b\b\b\b3137536/45929032 bytes (6.8%)\b\b\b\b\b\b\b\b\b\b\b\b\b\b\b\b\b\b\b\b\b\b\b\b\b\b\b\b\b6758400/45929032 bytes (14.7%)\b\b\b\b\b\b\b\b\b\b\b\b\b\b\b\b\b\b\b\b\b\b\b\b\b\b\b\b\b\b10182656/45929032 bytes (22.2%)\b\b\b\b\b\b\b\b\b\b\b\b\b\b\b\b\b\b\b\b\b\b\b\b\b\b\b\b\b\b\b13180928/45929032 bytes (28.7%)\b\b\b\b\b\b\b\b\b\b\b\b\b\b\b\b\b\b\b\b\b\b\b\b\b\b\b\b\b\b\b16556032/45929032 bytes (36.0%)\b\b\b\b\b\b\b\b\b\b\b\b\b\b\b\b\b\b\b\b\b\b\b\b\b\b\b\b\b\b\b19922944/45929032 bytes (43.4%)\b\b\b\b\b\b\b\b\b\b\b\b\b\b\b\b\b\b\b\b\b\b\b\b\b\b\b\b\b\b\b23437312/45929032 bytes (51.0%)\b\b\b\b\b\b\b\b\b\b\b\b\b\b\b\b\b\b\b\b\b\b\b\b\b\b\b\b\b\b\b26697728/45929032 bytes (58.1%)\b\b\b\b\b\b\b\b\b\b\b\b\b\b\b\b\b\b\b\b\b\b\b\b\b\b\b\b\b\b\b30023680/45929032 bytes (65.4%)\b\b\b\b\b\b\b\b\b\b\b\b\b\b\b\b\b\b\b\b\b\b\b\b\b\b\b\b\b\b\b33226752/45929032 bytes (72.3%)\b\b\b\b\b\b\b\b\b\b\b\b\b\b\b\b\b\b\b\b\b\b\b\b\b\b\b\b\b\b\b36757504/45929032 bytes (80.0%)\b\b\b\b\b\b\b\b\b\b\b\b\b\b\b\b\b\b\b\b\b\b\b\b\b\b\b\b\b\b\b40165376/45929032 bytes (87.5%)\b\b\b\b\b\b\b\b\b\b\b\b\b\b\b\b\b\b\b\b\b\b\b\b\b\b\b\b\b\b\b43827200/45929032 bytes (95.4%)\b\b\b\b\b\b\b\b\b\b\b\b\b\b\b\b\b\b\b\b\b\b\b\b\b\b\b\b\b\b\b45929032/45929032 bytes (100.0%)\n",
            "  Done\n",
            "File saved as /root/.imageio/ffmpeg/ffmpeg-linux64-v3.3.1.\n",
            "Video: /content/Vietnamese_Annie_NK_Trip.mp4 Duration: 534.03 n_windows: 5340\n"
          ]
        },
        {
          "output_type": "error",
          "ename": "AttributeError",
          "evalue": "ignored",
          "traceback": [
            "\u001b[0;31m---------------------------------------------------------------------------\u001b[0m",
            "\u001b[0;31mAttributeError\u001b[0m                            Traceback (most recent call last)",
            "\u001b[0;32m<ipython-input-5-683c90db8fcb>\u001b[0m in \u001b[0;36m<module>\u001b[0;34m()\u001b[0m\n\u001b[1;32m     71\u001b[0m   \u001b[0medited_video\u001b[0m\u001b[0;34m.\u001b[0m\u001b[0mclose\u001b[0m\u001b[0;34m(\u001b[0m\u001b[0;34m)\u001b[0m\u001b[0;34m\u001b[0m\u001b[0;34m\u001b[0m\u001b[0m\n\u001b[1;32m     72\u001b[0m \u001b[0;34m\u001b[0m\u001b[0m\n\u001b[0;32m---> 73\u001b[0;31m \u001b[0msplit_video\u001b[0m\u001b[0;34m(\u001b[0m\u001b[0;34m'/content/Vietnamese_Annie_NK_Trip.mp4'\u001b[0m\u001b[0;34m,\u001b[0m \u001b[0;34m'./'\u001b[0m\u001b[0;34m)\u001b[0m\u001b[0;34m\u001b[0m\u001b[0;34m\u001b[0m\u001b[0m\n\u001b[0m",
            "\u001b[0;32m<ipython-input-5-683c90db8fcb>\u001b[0m in \u001b[0;36msplit_video\u001b[0;34m(file_in, path_out, threshold, window_size)\u001b[0m\n\u001b[1;32m     26\u001b[0m \u001b[0;34m\u001b[0m\u001b[0m\n\u001b[1;32m     27\u001b[0m   \u001b[0;32mfor\u001b[0m \u001b[0mi\u001b[0m \u001b[0;32min\u001b[0m \u001b[0mrange\u001b[0m\u001b[0;34m(\u001b[0m\u001b[0mn_windows\u001b[0m\u001b[0;34m)\u001b[0m\u001b[0;34m:\u001b[0m\u001b[0;34m\u001b[0m\u001b[0;34m\u001b[0m\u001b[0m\n\u001b[0;32m---> 28\u001b[0;31m     \u001b[0msub_clip\u001b[0m \u001b[0;34m=\u001b[0m \u001b[0mvideo_clip\u001b[0m\u001b[0;34m.\u001b[0m\u001b[0maudio\u001b[0m\u001b[0;34m.\u001b[0m\u001b[0msubclip\u001b[0m\u001b[0;34m(\u001b[0m\u001b[0mi\u001b[0m \u001b[0;34m*\u001b[0m \u001b[0mwindow_size\u001b[0m\u001b[0;34m,\u001b[0m \u001b[0;34m(\u001b[0m\u001b[0mi\u001b[0m \u001b[0;34m+\u001b[0m \u001b[0;36m1\u001b[0m\u001b[0;34m)\u001b[0m \u001b[0;34m*\u001b[0m \u001b[0mwindow_size\u001b[0m\u001b[0;34m)\u001b[0m\u001b[0;34m\u001b[0m\u001b[0;34m\u001b[0m\u001b[0m\n\u001b[0m\u001b[1;32m     29\u001b[0m     \u001b[0;32mif\u001b[0m \u001b[0msub_clip\u001b[0m\u001b[0;34m.\u001b[0m\u001b[0mmax_volume\u001b[0m\u001b[0;34m(\u001b[0m\u001b[0;34m)\u001b[0m \u001b[0;34m>=\u001b[0m \u001b[0mthreshold\u001b[0m\u001b[0;34m:\u001b[0m\u001b[0;34m\u001b[0m\u001b[0;34m\u001b[0m\u001b[0m\n\u001b[1;32m     30\u001b[0m       \u001b[0;32mif\u001b[0m \u001b[0mis_prev_silence\u001b[0m\u001b[0;34m:\u001b[0m \u001b[0;31m# start speaking\u001b[0m\u001b[0;34m\u001b[0m\u001b[0;34m\u001b[0m\u001b[0m\n",
            "\u001b[0;31mAttributeError\u001b[0m: 'NoneType' object has no attribute 'subclip'"
          ]
        }
      ]
    },
    {
      "cell_type": "code",
      "metadata": {
        "id": "ACwkokPJewmj"
      },
      "source": [
        "video_clip = VideoFileClip('/content/Vietnamese_Annie_NK_Trip.mp4')"
      ],
      "execution_count": 6,
      "outputs": []
    },
    {
      "cell_type": "code",
      "metadata": {
        "id": "AZoF8iuzc0XK"
      },
      "source": [
        "video_clip.audio"
      ],
      "execution_count": 7,
      "outputs": []
    },
    {
      "cell_type": "code",
      "metadata": {
        "id": "h34tprJ2e1Uy",
        "outputId": "a07ff0e8-53f9-4833-ce68-f1bd6bf8cb38",
        "colab": {
          "base_uri": "https://localhost:8080/"
        }
      },
      "source": [
        "!pip install moviepy"
      ],
      "execution_count": 8,
      "outputs": [
        {
          "output_type": "stream",
          "name": "stdout",
          "text": [
            "Requirement already satisfied: moviepy in /usr/local/lib/python3.7/dist-packages (0.2.3.5)\n",
            "Requirement already satisfied: decorator<5.0,>=4.0.2 in /usr/local/lib/python3.7/dist-packages (from moviepy) (4.4.2)\n",
            "Requirement already satisfied: imageio<3.0,>=2.1.2 in /usr/local/lib/python3.7/dist-packages (from moviepy) (2.4.1)\n",
            "Requirement already satisfied: tqdm<5.0,>=4.11.2 in /usr/local/lib/python3.7/dist-packages (from moviepy) (4.62.3)\n",
            "Requirement already satisfied: numpy in /usr/local/lib/python3.7/dist-packages (from moviepy) (1.19.5)\n",
            "Requirement already satisfied: pillow in /usr/local/lib/python3.7/dist-packages (from imageio<3.0,>=2.1.2->moviepy) (7.1.2)\n"
          ]
        }
      ]
    },
    {
      "cell_type": "code",
      "metadata": {
        "id": "yiC4LmsZ5MVw"
      },
      "source": [
        ""
      ],
      "execution_count": null,
      "outputs": []
    }
  ]
}